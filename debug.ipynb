{
 "cells": [
  {
   "cell_type": "code",
   "execution_count": 22,
   "metadata": {},
   "outputs": [],
   "source": [
    "from pymatgen.io.espresso.outputs import PWxml\n",
    "from pymatgen.io.espresso.inputs import PWin\n",
    "#from pymatgen.io.espresso.projwfc import Projwfc\n",
    "from pymatgen.io.espresso.utils import parse_pwvals\n",
    "from pymatgen.io.vasp.outputs import Vasprun\n",
    "from pymatgen.io.vasp.inputs import Kpoints, Poscar, Potcar\n",
    "from pymatgen.electronic_structure.core import Spin\n",
    "from pymatgen.electronic_structure.plotter import BSPlotter\n",
    "import xml.etree.ElementTree as ET\n",
    "from monty.io import zopen\n",
    "import xmltodict\n",
    "import numpy as np\n",
    "from pymatgen.io.espresso.inputs.pwin import CellParametersCard, KPointsCard, AtomicSpeciesCard, AtomicPositionsCard, AdditionalKPointsCard\n",
    "\n",
    "from pymatgen.core.structure import Structure\n"
   ]
  },
  {
   "cell_type": "code",
   "execution_count": 2,
   "metadata": {},
   "outputs": [
    {
     "name": "stdout",
     "output_type": "stream",
     "text": [
      "CELL_PARAMETERS {angstrom}\n",
      "   0.0000000000  0.0000000000  0.0000000000\n",
      "   0.0000000000  0.0000000000  0.0000000000\n",
      "   0.0000000000  0.0000000000  0.0000000000\n",
      "K_POINTS {automatic}\n",
      "   10  10  10   1   1   1\n",
      "ATOMIC_SPECIES\n",
      "    H   1.000000 H.pbe-rrkjus.UPF\n",
      "   He   4.000000 He.pbe-rrkjus.UPF\n",
      "ATOMIC_POSITIONS {angstrom}\n",
      "   He  0.0000000000  0.0000000000  0.0000000000 1 1 1\n",
      "    H  0.5000000000  0.5000000000  0.5000000000 1 1 1\n",
      "ADDITIONAL_K_POINTS {crystal}\n",
      "2\n",
      "   0.0000000000  0.0000000000  0.0000000000    1 ! X\n",
      "   0.5000000000  0.5000000000  0.5000000000    1\n"
     ]
    }
   ],
   "source": [
    "card = CellParametersCard(\"angstrom\", [0, 0, 0], [0, 0, 0], [0, 0, 0])\n",
    "print(card)\n",
    "card = KPointsCard(\"automatic\", [10,10,10], [1, 1, 1], [], [],[])\n",
    "print(card)\n",
    "card = AtomicSpeciesCard(None, [\"H\", \"He\"], [1.0, 4.0], [\"H.pbe-rrkjus.UPF\", \"He.pbe-rrkjus.UPF\"])\n",
    "print(card)\n",
    "card = AtomicPositionsCard(\"angstrom\", [\"He\", \"H\"], [[0, 0, 0], [0.5, 0.5, 0.5]], None)\n",
    "print(card)\n",
    "card = AdditionalKPointsCard(\"crystal\", [[0, 0, 0], [0.5, 0.5, 0.5]], [1, 1], [\"X\", None])\n",
    "print(card)"
   ]
  },
  {
   "cell_type": "code",
   "execution_count": null,
   "metadata": {},
   "outputs": [
    {
     "data": {
      "text/plain": [
       "[True, True, True]"
      ]
     },
     "execution_count": 4,
     "metadata": {},
     "output_type": "execute_result"
    }
   ],
   "source": [
    "pwin = PWin.from_file('pymatgen/io/espresso/tests/data/BAS/scf.in')\n",
    "required_card_names = [c.name for c in PWinCards if c.value.required]\n",
    "[pwin.cards[card] is not None for card in required_card_names]"
   ]
  },
  {
   "cell_type": "code",
   "execution_count": null,
   "metadata": {},
   "outputs": [
    {
     "data": {
      "text/plain": [
       "[{'start_index': 0, 'end_index': 15, 'name': '\\\\Gamma-X'},\n",
       " {'start_index': 16, 'end_index': 31, 'name': 'X-W'},\n",
       " {'start_index': 32, 'end_index': 47, 'name': 'W-K'},\n",
       " {'start_index': 48, 'end_index': 63, 'name': 'K-\\\\Gamma'},\n",
       " {'start_index': 64, 'end_index': 79, 'name': '\\\\Gamma-L'},\n",
       " {'start_index': 80, 'end_index': 95, 'name': 'L-U'},\n",
       " {'start_index': 96, 'end_index': 111, 'name': 'U-W'},\n",
       " {'start_index': 112, 'end_index': 127, 'name': 'W-L'},\n",
       " {'start_index': 128, 'end_index': 143, 'name': 'L-K'},\n",
       " {'start_index': 144, 'end_index': 159, 'name': 'U-X'}]"
      ]
     },
     "execution_count": 9,
     "metadata": {},
     "output_type": "execute_result"
    }
   ],
   "source": [
    "from pymatgen.io.vasp.outputs import BSVasprun\n",
    "vr = BSVasprun('pymatgen/io/espresso/tests/data/Si/vasprun_bands.xml')\n",
    "bs = vr.get_band_structure(line_mode=True, kpoints_filename='pymatgen/io/espresso/tests/data/Si/KPOINTS_bands')\n",
    "bs.branches"
   ]
  },
  {
   "cell_type": "code",
   "execution_count": null,
   "metadata": {},
   "outputs": [],
   "source": [
    "pwin.validate()"
   ]
  },
  {
   "cell_type": "code",
   "execution_count": 9,
   "metadata": {},
   "outputs": [],
   "source": [
    "pwin = PWin.from_file('tests/data/BAS/scf.in')\n",
    "pwin = PWin.from_file('tests/data/Sr3PbO/bands.in')\n",
    "#pwin.structure = structure\n",
    "#del pwin.k_points\n",
    "#print(pwin)"
   ]
  },
  {
   "cell_type": "code",
   "execution_count": 48,
   "metadata": {},
   "outputs": [
    {
     "name": "stdout",
     "output_type": "stream",
     "text": [
      "&SYSTEM\n",
      "  ibrav = 2\n",
      "  celldm = 7.5\n",
      "  nat = 1\n",
      "  ntyp = 1\n",
      "  ecutwfc = 15.0\n",
      "  nbnd = 8\n",
      "/\n",
      "None\n"
     ]
    },
    {
     "name": "stderr",
     "output_type": "stream",
     "text": [
      "/Users/ashour/code/pymatgen-io-espresso/pymatgen/io/espresso/utils.py:55: UserWarning: ibrav != 0 has not been thoroughly tested. Please be careful.\n",
      "  warnings.warn(\"ibrav != 0 has not been thoroughly tested. Please be careful.\")\n"
     ]
    },
    {
     "data": {
      "text/plain": [
       "Structure Summary\n",
       "Lattice\n",
       "    abc : 2.8063859570917136 2.8063859570917136 2.8063859570917136\n",
       " angles : 60.00000000000001 60.00000000000001 60.00000000000001\n",
       " volume : 15.628856288079671\n",
       "      A : np.float64(-1.98441454088625) np.float64(0.0) np.float64(1.98441454088625)\n",
       "      B : np.float64(0.0) np.float64(1.98441454088625) np.float64(1.98441454088625)\n",
       "      C : np.float64(-1.98441454088625) np.float64(1.98441454088625) np.float64(0.0)\n",
       "    pbc : True True True\n",
       "PeriodicSite: Al (0.0, 0.0, 0.0) [0.0, 0.0, 0.0]"
      ]
     },
     "execution_count": 48,
     "metadata": {},
     "output_type": "execute_result"
    }
   ],
   "source": [
    "mat = \"Al\"\n",
    "try:\n",
    "    pwin = PWin.from_file(f\"tests/data/{mat}/bands.in\")\n",
    "except FileNotFoundError:\n",
    "    pwin = PWin.from_file(f\"tests/data/{mat}/scf.in\")\n",
    "print(pwin.system)\n",
    "print(pwin.cell_parameters)\n",
    "pwin.structure.to(fmt='poscar', filename=f'tests/data/{mat}/POSCAR')\n",
    "pwin.structure"
   ]
  },
  {
   "attachments": {},
   "cell_type": "markdown",
   "metadata": {},
   "source": [
    " # Debugging"
   ]
  },
  {
   "cell_type": "code",
   "execution_count": null,
   "metadata": {},
   "outputs": [],
   "source": [
    "pwin_BaAs = PWin.from_file('pymatgen/io/espresso/tests/data/BAS/scf.in')\n",
    "pwin_BaAs.to_file('old.in', overwrite=True)\n",
    "new_struct = PWin.from_file('pymatgen/io/espresso/tests/data/Sr3PbO/bands.in').structure\n",
    "new_struct = pwin_BaAs.structure\n",
    "pwin_BaAs.structure = new_struct\n",
    "pwin_BaAs.to_file('new.in', overwrite=True)\n",
    "#struct = pwin_BaAs.get_structure()"
   ]
  },
  {
   "cell_type": "code",
   "execution_count": null,
   "metadata": {},
   "outputs": [],
   "source": [
    "new_struct.sites[0].species_string"
   ]
  },
  {
   "cell_type": "code",
   "execution_count": null,
   "metadata": {},
   "outputs": [],
   "source": [
    "symbols = {s[\"symbol\"] for s in pwin.atomic_species[\"data\"]}\n",
    "species = pwin.structure.species\n",
    "sss = {s.symbol for s in set(species)}\n",
    "if symbols == sss:\n",
    "    print('yay')"
   ]
  },
  {
   "cell_type": "code",
   "execution_count": null,
   "metadata": {},
   "outputs": [],
   "source": [
    "pwin_BaAs.system"
   ]
  },
  {
   "cell_type": "code",
   "execution_count": null,
   "metadata": {},
   "outputs": [],
   "source": [
    "type(new_struct.species[0])"
   ]
  },
  {
   "cell_type": "code",
   "execution_count": null,
   "metadata": {},
   "outputs": [],
   "source": [
    "from pymatgen.core.periodic_table import Element"
   ]
  },
  {
   "cell_type": "code",
   "execution_count": null,
   "metadata": {},
   "outputs": [],
   "source": [
    "syms = list({site.species_string for site in new_struct})\n",
    "syms"
   ]
  },
  {
   "cell_type": "code",
   "execution_count": null,
   "metadata": {},
   "outputs": [],
   "source": [
    "poscar = Poscar(new_struct)"
   ]
  },
  {
   "cell_type": "code",
   "execution_count": null,
   "metadata": {},
   "outputs": [],
   "source": [
    "poscar.site_symbols"
   ]
  },
  {
   "cell_type": "code",
   "execution_count": null,
   "metadata": {},
   "outputs": [],
   "source": [
    "pwin_BaAs.set_structure(new_struct)"
   ]
  },
  {
   "cell_type": "code",
   "execution_count": null,
   "metadata": {},
   "outputs": [],
   "source": [
    "pwin_BaAs.get_structure()"
   ]
  },
  {
   "cell_type": "code",
   "execution_count": null,
   "metadata": {},
   "outputs": [],
   "source": [
    "pwxml_BAs = PWxml('pymatgen/io/espresso/tests/data/BAs/scf.xml')"
   ]
  },
  {
   "cell_type": "code",
   "execution_count": null,
   "metadata": {},
   "outputs": [],
   "source": [
    "# Actual input file\n",
    "alat_input = 1.889725989\n",
    "# Copied from XML\n",
    "alat_xml = 6.439670622385e0\n",
    "a1 = np.array([0.000000000000000e0,4.553534765696103e0,4.553534765696103e0]) # units of BOHR\n",
    "a2 = np.array([4.553534765696103e0,0.000000000000000e0,4.553534765696103e0]) # units of BOHR\n",
    "a3 = np.array([4.553534765696103e0,4.553534765696103e0,0.000000000000000e0]) # units of BOHR\n",
    "b1 = np.array([-2.075009949672709e-1,2.075009949672709e-1,2.075009949672709e-1]) # units of 2pi/alat_input\n",
    "b2 = np.array([2.075009949672709e-1,-2.075009949672709e-1,2.075009949672709e-1]) # units of 2pi/alat_input\n",
    "b3 = np.array([2.075009949672709e-1,2.075009949672709e-1,-2.075009949672709e-1]) # units of 2pi/alat_input\n",
    "\n",
    "# Compute some stuff\n",
    "V = np.dot(a1, np.cross(a2, a3)) # units of bohr^3\n",
    "b1_computed = 2*np.pi*np.cross(a2, a3)/(V) # units of 2pi/bohr\n",
    "print(f\"2pi(a2xa3/V):        {b1_computed} (units of 2pi/bohr)\\nb1*(2pi/alat_input): {b1*2*np.pi/alat_input} (units of 2pi/bohr)\") \n"
   ]
  },
  {
   "cell_type": "code",
   "execution_count": null,
   "metadata": {},
   "outputs": [],
   "source": [
    "pwxml_BAs = PWxml('pymatgen/io/espresso/tests/data/BAs/scf.xml')"
   ]
  },
  {
   "cell_type": "code",
   "execution_count": null,
   "metadata": {},
   "outputs": [],
   "source": [
    "alat_xml_input = 6.439670622385e0\n",
    "alat_xml_output = 1.889725989000e0\n",
    "bohr_to_ang = 0.5291772105638411\n",
    "\n",
    "pwxml_BAs = PWxml(\"pymatgen/io/espresso/tests/data/BAs/bands.xml\")\n",
    "alat = pwxml_BAs.alat\n",
    "np.around(pwxml_BAs.kpoints_cart, 6)# / ((2 * np.pi / alat) * (1 / bohr_to_ang)), 6)\n",
    "# np.around(pwxml_BAs.kpoints_frac, 3)"
   ]
  },
  {
   "cell_type": "code",
   "execution_count": null,
   "metadata": {},
   "outputs": [],
   "source": [
    "np.around(pwxml_BAs.kpoints_frac, 5)"
   ]
  },
  {
   "cell_type": "code",
   "execution_count": null,
   "metadata": {},
   "outputs": [],
   "source": [
    "alat_xml_input = 6.439670622385e0\n",
    "alat_xml_output = 1.889725989000e0\n",
    "bohr_to_ang = 0.5291772105638411\n",
    "\n",
    "k_input = np.array([1.625143450279226e-21,1.193947388943242e-3,-1.625143450279226e-21])\n",
    "k_output = np.array([5.538045512864166e-21,4.068646973162236e-3,-5.538045512864166e-21])\n",
    "ratio = alat_xml_input/alat_xml_output\n",
    "k_input *= ratio**2\n",
    "\n",
    "k_input *=  (2 * np.pi / alat_xml_input) * (1 / bohr_to_ang) # units of 1/ang\n",
    "k_output *= (2 * np.pi / alat_xml_output) * (1 / bohr_to_ang) # units of 1/ang\n",
    "\n",
    "k_output = np.around(k_output, 6)\n",
    "k_input = np.around(k_input, 6)\n",
    "\n",
    "print(f\"Input:  {k_input}\\nOutput: {k_output}\")\n",
    "print(k_output/k_input)"
   ]
  },
  {
   "cell_type": "code",
   "execution_count": null,
   "metadata": {},
   "outputs": [],
   "source": []
  },
  {
   "cell_type": "code",
   "execution_count": null,
   "metadata": {},
   "outputs": [],
   "source": [
    "pwxml_BAs = PWxml('pymatgen/io/espresso/tests/data/BAs/scf.xml')\n"
   ]
  },
  {
   "cell_type": "code",
   "execution_count": null,
   "metadata": {},
   "outputs": [],
   "source": [
    "bohr_to_ang = 0.5291772105638411\n",
    "pwxml_BAs = PWxml('pymatgen/io/espresso/tests/data/BAs/bands.xml')\n",
    "alat_xml_input = 6.439670622385e0\n",
    "alat_xml_output = pwxml_BAs.alat\n",
    "\n",
    "import xmltodict\n",
    "with open('pymatgen/io/espresso/tests/data/BAs/bands.xml') as fd:\n",
    "    doc = xmltodict.parse(fd.read())['qes:espresso']\n",
    "\n",
    "\n",
    "#alat = alat_xml_output\n",
    "#T = pwxml_BAs.final_structure.lattice.reciprocal_lattice.matrix\n",
    "#T = np.linalg.inv(T).T\n",
    "#_, k_cart, _ = PWxml._parse_kpoints(doc['output'], T, alat) \n",
    "#k_output_cart = k_cart * bohr_to_ang\n",
    "k_output_cart = pwxml_BAs.kpoints_cart\n",
    "\n",
    "alat = alat_xml_input\n",
    "kpts = doc['input']['k_points_IBZ']['k_point']\n",
    "nk = len(kpts)\n",
    "k = np.zeros((nk, 3), float)\n",
    "k_weights = np.zeros(nk, float)\n",
    "for n, kp in enumerate(kpts):\n",
    "    k[n] = parse_pwvals(kp[\"#text\"])\n",
    "k_input_cart = k * (2 * np.pi / alat) * (1 / bohr_to_ang)\n",
    "\n",
    "for k in zip(k_output_cart, k_input_cart):\n",
    "    print(f'O: {np.around(k[0], 5)} ||| I: {np.around(k[1], 5)}')"
   ]
  },
  {
   "cell_type": "code",
   "execution_count": null,
   "metadata": {},
   "outputs": [],
   "source": [
    "i = 60\n",
    "k_output_cart[i]/k_input_cart[i]"
   ]
  },
  {
   "cell_type": "code",
   "execution_count": null,
   "metadata": {},
   "outputs": [],
   "source": [
    "og.to(filename='BaAs_ella_og.cif')\n",
    "mod.to(filename='BaAs_ella_mod.cif')"
   ]
  },
  {
   "cell_type": "code",
   "execution_count": null,
   "metadata": {},
   "outputs": [],
   "source": [
    "pwin_Si = PWin.from_file('pymatgen/io/espresso/tests/data/Si/bands.in')\n",
    "pwin_Ni = PWin.from_file('pymatgen/io/espresso/tests/data/Ni/bands.in')\n",
    "pwin_0 = PWin.from_file('pymatgen/io/espresso/tests/data/Sr3PbO/bands.in')"
   ]
  },
  {
   "cell_type": "code",
   "execution_count": null,
   "metadata": {},
   "outputs": [],
   "source": [
    "pwin_0.system\n",
    "pwin_0.cell_parameters['options']\n",
    "#pwin_0.atomic_positions['options']\n",
    "#[x['symbol'] for x in pwin_0.atomic_positions['data']]\n",
    "#[x['position'] for x in pwin_0.atomic_positions['data']]"
   ]
  },
  {
   "cell_type": "code",
   "execution_count": null,
   "metadata": {},
   "outputs": [],
   "source": [
    "pwin_Si = PWin.from_file('pymatgen/io/espresso/tests/data/Si/bands.in')\n",
    "structure = pwin_Si.to_structure()\n",
    "structure.to(filename='Si.cif')\n",
    "structure = pwin_Ni.to_structure()\n",
    "structure.to(filename='Ni.cif')\n",
    "structure = pwin_0.to_structure()\n",
    "structure.to(filename='Sr3PbO.cif')\n",
    "structure"
   ]
  },
  {
   "cell_type": "code",
   "execution_count": null,
   "metadata": {},
   "outputs": [],
   "source": [
    "from pymatgen.electronic_structure.bandstructure import Kpoint\n",
    "from pymatgen.io.espresso.pwxml import PWxml\n",
    "\n",
    "path = 'pymatgen/io/espresso/tests/data/Bi2Te3/scf.xml'\n",
    "pwxml = PWxml(path)\n",
    "\n",
    "# This should work exactly as is with VASP btw\n",
    "#reciprocal_lattice = pwxml.initial_structure.lattice.reciprocal_lattice\n",
    "#S = np.linalg.inv(reciprocal_lattice.matrix).T # Matrix to convert from cartesian to fractional\n",
    "#k_cart = np.array(pwxml.kpoints_cart)\n",
    "#k_frac = (S @ k_cart.T).T\n",
    "#k_frac_og = pwxml.kpoints_frac\n",
    "#for i, k in enumerate(k_frac):\n",
    "#    print(f\"{k_frac_og[i]} vs {k}\")\n",
    "\n",
    "#for k in pwxml.kpoints_frac:\n",
    "#    shifts = [0.01, 0.03, 0.04] # dx, dy, dz in cartesian (inverse angstrom)\n",
    "#    shifts = T @ shifts # Convert to fractional\n",
    "#    k_shifted = [k + dk for dk in shifts] # 3 shifted kpoints\n",
    "#    for k_s in k_shifted:\n",
    "#        # Check if all components of k_s are less than 1 and greater than 0\n",
    "#        if all([0 <= k < 1 for k in k_s]):\n",
    "#            print(f\"{k_s} in BZ.\")\n",
    "#        else:\n",
    "#            k_in_ibz = Kpoint(k, reciprocal_lattice, to_unit_cell=True)\n",
    "#            print(f\"{k_s} outside of BZ., in IBZ: {k_in_ibz.frac_coords}\")\n",
    "\n",
    "\n",
    "\n",
    "for i in range(11):\n",
    "    for j in range(11):\n",
    "        for k in range(5):\n",
    "            datastruct[i, j, k] = full_kpts\n",
    "#for i in range(grid[0]):\n",
    "#    for j in range(grid[1]):\n",
    "#        for k in range(grid[2]):\n",
    "#            datastruct[i, j, k] = full_kpts\n",
    "#"
   ]
  },
  {
   "cell_type": "code",
   "execution_count": null,
   "metadata": {},
   "outputs": [],
   "source": [
    "from pymatgen.io.espresso.pwxml import PWxml\n",
    "from pymatgen.symmetry.analyzer import SpacegroupAnalyzer\n",
    "from pymatgen.electronic_structure.bandstructure import Kpoint\n",
    "\n",
    "pwxml = PWxml(\"pymatgen/io/espresso/tests/data/Bi2Te3/scf.xml\")\n",
    "struct = pwxml.initial_structure\n",
    "sg = SpacegroupAnalyzer(struct)\n",
    "grid = (99, 99, 21) # Can read from XML, will implement\n",
    "shift = (0, 0, 0) # Can read from XML, will implement\n",
    "# These are the k-points in the IBZ\n",
    "ibz_kpts = sg.get_ir_reciprocal_mesh(grid, is_shift=shift)\n",
    "ibz_kpts = [ibz_kpts[i][0] for i in range(len(ibz_kpts))] # Get rid of weights \n",
    "\n",
    "# These are the k-points in the entire BZ\n",
    "full_kpts, map = sg.get_ir_reciprocal_mesh_map(grid, is_shift=shift)\n",
    "kpts = full_kpts.reshape(grid + (3,), order=\"F\")\n",
    "map = map.reshape(grid, order=\"F\") # Maps kpts to IBZ\n",
    "\n",
    "# Put these into shape Nx * Ny * Nz * 3 with proper ordering\n",
    "for i in range(3):\n",
    "    kpts = np.roll(kpts, int(np.floor(grid[i] / 2)), axis=i)\n",
    "    map = np.roll(map, int(np.floor(grid[i] / 2)), axis=i)\n",
    "\n",
    "ibz_equiv = full_kpts[map] # equivalent k-point in IBZ\n",
    "\n",
    "\n",
    "# Create data structure\n",
    "datastruct = [[[{}] * grid[2]] * grid[1]] * grid[0]\n",
    "for i in range(grid[0]):\n",
    "    datastruct.append([])\n",
    "    for j in range(grid[1]):\n",
    "        for k in range(grid[2]):\n",
    "            kpt = kpts[i, j, k] \n",
    "            kpt_ibz = ibz_equiv[i, j, k] # equivalent k-point in IBZ\n",
    "            # figure out index in ibz from map and ibz_kpts\n",
    "            # QE likely uses same indexing as pymatgen, but check\n",
    "            index = 1\n",
    "            k_dict = {\n",
    "                \"kpt\": Kpoint(kpt, pwxml.initial_structure.lattice.reciprocal_lattice),\n",
    "                \"kpt_ibz\": Kpoint(kpt_ibz, pwxml.initial_structure.lattice.reciprocal_lattice),\n",
    "                \"wfc_file\": f\"wfc{index}.hdf5\",\n",
    "            }\n",
    "            datastruct[i][j][k] = k_dict"
   ]
  },
  {
   "cell_type": "code",
   "execution_count": null,
   "metadata": {},
   "outputs": [],
   "source": [
    "kpt_ibz = ibz_equiv[0, 0, 0] # equivalent k-point in IBZ\n",
    "final_map = np.argwhere(np.isin(ibz_kpts, kpt_ibz).all(axis=1))\n",
    "final_map"
   ]
  },
  {
   "cell_type": "code",
   "execution_count": null,
   "metadata": {},
   "outputs": [],
   "source": [
    "print(kpt_ibz)\n",
    "print(ibz_kpts[164])"
   ]
  },
  {
   "cell_type": "code",
   "execution_count": null,
   "metadata": {},
   "outputs": [],
   "source": [
    "ibz_equiv.shape"
   ]
  },
  {
   "cell_type": "code",
   "execution_count": null,
   "metadata": {},
   "outputs": [],
   "source": [
    "np.isin(ibz_kpts, ibz_equiv)"
   ]
  },
  {
   "cell_type": "code",
   "execution_count": null,
   "metadata": {},
   "outputs": [],
   "source": []
  },
  {
   "cell_type": "code",
   "execution_count": null,
   "metadata": {},
   "outputs": [],
   "source": [
    "# Find the index in ibz_kpts that corresponds to the k-point in the full BZ\n",
    "# This is the index of the k-point in the IBZ\n",
    "# Write function to find index in 2D array where row is equal to a given row\n",
    "#def find_index(array, row):\n",
    "#    for i, r in enumerate(array):\n",
    "#        if np.all(r == row):\n",
    "#            return i\n",
    "#    return None\n"
   ]
  },
  {
   "cell_type": "code",
   "execution_count": null,
   "metadata": {},
   "outputs": [],
   "source": [
    "nx = grid[0]\n",
    "ny = grid[1]\n",
    "nz = grid[2]\n",
    "gamma = kpts[nx//2, ny//2, nz//2]\n",
    "gamma"
   ]
  },
  {
   "cell_type": "code",
   "execution_count": null,
   "metadata": {},
   "outputs": [],
   "source": [
    "path = 'pymatgen/io/espresso/tests/data/Ni/'\n",
    "projwfc_xml = Projwfc.from_xml(path+'atomic_proj.xml', parse_projections=True)\n",
    "projwfc_out = Projwfc.from_projwfcout(path+'projwfc.out', parse_projections=True)\n",
    "projwfc_filproj = Projwfc.from_filproj(path+'filproj.projwfc_up', parse_projections=True)\n",
    "#projwfc.atomic_states[Spin.up][0].projections\n",
    "# Merge kpoints and weights into a single array\n",
    "#projwfc.atomic_states\n",
    "#states = projwfc\n",
    "#states\n",
    "#projwfc_xml.atomic_states[Spin.up][1].projections[0]\n",
    "#phi_psi = np.array(states[0][0]['atomic_states']['phi_psi'])\n",
    "#phi_psi = phi_psi[::2] + 1j*phi_psi[1::2]\n",
    "#np.abs(phi_psi)**2\n",
    "from_file = \"\"\"\n",
    " -0.988044064409455       1.131845521650903E-003\n",
    "  1.262043247685085E-011 -4.622602647885721E-012\n",
    "  1.452471476426354E-011  7.515363331656033E-012\n",
    "  2.509740679168537E-012 -6.942578456570203E-012\n",
    "  0.154076525181495       5.133949657975312E-003\n",
    " -1.038064079139644E-011  3.109512647370138E-012\n",
    " -4.778204307914757E-011  2.881745536642555E-011\n",
    "  1.678866073939744E-011  5.931233282296944E-011\n",
    "  6.654751402712655E-012 -7.877149453550114E-012\n",
    " -2.197089732369761E-012 -3.503376061475549E-011\n",
    "\"\"\"\n",
    "print(projwfc_out.atomic_states[Spin.up][0].projections[0])\n",
    "print(np.around(projwfc_filproj.atomic_states[Spin.up][0].projections[0], decimals=3))\n",
    "print(np.around(projwfc_xml.atomic_states[Spin.up][0].projections[0], decimals=3))"
   ]
  },
  {
   "cell_type": "code",
   "execution_count": null,
   "metadata": {},
   "outputs": [],
   "source": [
    "path = 'pymatgen/io/espresso/tests/data/Ni/'\n",
    "projwfc_xml = Projwfc.from_xml(path+'atomic_proj.xml', parse_projections=True)\n",
    "projwfc_out = Projwfc.from_projwfcout(path+'projwfc.out', parse_projections=True)\n",
    "projwfc_filproj = Projwfc.from_filproj(path+'filproj.projwfc_up', parse_projections=True)\n",
    "#projwfc.atomic_states[Spin.up][0].projections\n",
    "# Merge kpoints and weights into a single array\n",
    "#projwfc.atomic_states\n",
    "#states = projwfc\n",
    "#states\n",
    "states = projwfc_xml\n",
    "#projwfc_xml.atomic_states[Spin.up][1].projections[0]\n",
    "phi_psi = np.array(states[0][0][0]['phi_psi'])\n",
    "phi_psi = phi_psi[::2] + 1j*phi_psi[1::2]\n",
    "np.abs(phi_psi)**2"
   ]
  },
  {
   "cell_type": "code",
   "execution_count": null,
   "metadata": {},
   "outputs": [],
   "source": [
    "from io import StringIO\n",
    "natomwfc = 8\n",
    "states = []\n",
    "selections = np.arange(1, 3)\n",
    "filename = 'pymatgen/io/espresso/tests/data/Si/atomic_proj.xml'\n",
    "for event, elem in ET.iterparse(filename, events=(\"start\", \"end\")):\n",
    "    if elem.tag == \"HEADER\" and event == \"end\":\n",
    "        print(\"HEADERRRRRR\")\n",
    "    if event == 'end' and elem.tag == 'PROJECTIONS':\n",
    "        for e in elem.iter('ATOMIC_WFC'):\n",
    "            state_i = int(e.attrib[\"index\"])\n",
    "            if int(e.attrib['index']) == 1:\n",
    "                # New kpoint\n",
    "                kpt = [None]*natomwfc\n",
    "            elif int(e.attrib['index']) == natomwfc:\n",
    "                # End of kpoint\n",
    "                states.append(kpt)\n",
    "            if state_i in selections:\n",
    "                s = {\n",
    "                        \"state_i\": state_i,\n",
    "                        \"spin\": int(e.attrib[\"spin\"]),\n",
    "                        \"phi_psi\": np.array(parse_pwvals(e.text)),\n",
    "                    }\n",
    "                kpt[state_i - 1] = s\n"
   ]
  },
  {
   "cell_type": "code",
   "execution_count": null,
   "metadata": {},
   "outputs": [],
   "source": [
    "#import xmltodict\n",
    "#with open('pymatgen/io/espresso/tests/data/Sr3PbO/atomic_proj.xml') as fd:\n",
    "#    doc = xmltodict.parse(fd.read())\n",
    "#k_i = 0\n",
    "#state_i = 0\n",
    "#projections = parse_pwvals(doc['PROJECTIONS']['EIGENSTATES']['PROJS'][k_i]['ATOMIC_WFC'][state_i]['#text'])\n",
    "#projections\n",
    "## Form complesx number array from projections. Element 0 is real, 1 is imaginary, 2 is real, etc.\n",
    "#projections = np.array([complex(projections[i], projections[i+1]) for i in range(0, len(projections), 2)])\n",
    "#projections.shape"
   ]
  },
  {
   "cell_type": "code",
   "execution_count": null,
   "metadata": {},
   "outputs": [],
   "source": [
    "import numpy as np\n",
    "x = np.arange(1, 11)\n",
    "x[::2] + x[1::2]*1j"
   ]
  },
  {
   "attachments": {},
   "cell_type": "markdown",
   "metadata": {},
   "source": [
    " # Sr3PbO\n",
    " noncolinear+SOC band structure"
   ]
  },
  {
   "cell_type": "code",
   "execution_count": null,
   "metadata": {},
   "outputs": [],
   "source": [
    "dir = 'Sr3PbO'\n",
    "xml_filename = f'pymatgen/io/espresso/tests/data/{dir}/bands.xml'\n",
    "in_filename = f'pymatgen/io/espresso/tests/data/{dir}/bands.in'\n",
    "pwxml = PWxml(xml_filename)\n",
    "pwin = PWin.from_file(in_filename)\n",
    "#print(pwin.to_str())\n",
    "\n",
    "bs = pwxml.get_band_structure()\n",
    "BSPlotter(bs).show()\n"
   ]
  },
  {
   "cell_type": "code",
   "execution_count": null,
   "metadata": {},
   "outputs": [],
   "source": [
    "debug = pwxml._debug\n"
   ]
  },
  {
   "attachments": {},
   "cell_type": "markdown",
   "metadata": {},
   "source": [
    " # Si\n",
    " colinear band structure, but ibrav != 0 with kpoints in crystal_b\n",
    " This causes the same issue as the Ni calculation with pwxml.actual_kpoints being different from those in the actual input file\n",
    "\n",
    "\n",
    " scf.xml has as many bands as electrons/2, which should trigger a warning since such cases break BSPlotter()"
   ]
  },
  {
   "cell_type": "code",
   "execution_count": null,
   "metadata": {},
   "outputs": [],
   "source": [
    "dir = 'Si'\n",
    "xml_filename = f'pymatgen/io/espresso/tests/data/{dir}/bands.xml'\n",
    "in_filename = f'pymatgen/io/espresso/tests/data/{dir}/bands.in'\n",
    "pwxml = PWxml(xml_filename)\n",
    "pwin = PWin.from_file(in_filename)\n",
    "#print(pwin.to_str())\n",
    "\n",
    "bs = pwxml.get_band_structure(kpoints_filename=in_filename)\n",
    "BSPlotter(bs).show()\n",
    "\n",
    "#pwxml.actual_kpoints\n"
   ]
  },
  {
   "attachments": {},
   "cell_type": "markdown",
   "metadata": {},
   "source": [
    " # Al\n",
    " collinear bands with ibrav != 0 and tpiba cartesian k points with no option for the K_POINTS card (i.e., need to parse default)\n",
    "\n",
    " the ibrav = 2 seems to cause issues with the actual kpoints computed are different from those in the K_POINTS card (symm. equiv)"
   ]
  },
  {
   "cell_type": "code",
   "execution_count": null,
   "metadata": {},
   "outputs": [],
   "source": [
    "dir = 'Al'\n",
    "xml_filename = f'pymatgen/io/espresso/tests/data/{dir}/bands.xml'\n",
    "in_filename = f'pymatgen/io/espresso/tests/data/{dir}/bands.in'\n",
    "pwxml = PWxml(xml_filename)\n",
    "pwin = PWin.from_file(in_filename)\n",
    "#print(pwin.to_str())\n",
    "\n",
    "bs = pwxml.get_band_structure(kpoints_filename=in_filename)\n",
    "BSPlotter(bs).show()\n"
   ]
  },
  {
   "attachments": {},
   "cell_type": "markdown",
   "metadata": {},
   "source": [
    " # Ni\n",
    " collinear, spin-polarized bands, with ibrav = 2\n",
    "\n",
    " the ibrav = 2 seems to cause issues with the actual kpoints computed are different from those in the K_POINTS card (symm. equiv)"
   ]
  },
  {
   "cell_type": "code",
   "execution_count": null,
   "metadata": {},
   "outputs": [],
   "source": [
    "dir = 'Ni'\n",
    "xml_filename = f'pymatgen/io/espresso/tests/data/{dir}/bands.xml'\n",
    "in_filename = f'pymatgen/io/espresso/tests/data/{dir}/bands.in'\n",
    "pwxml = PWxml(xml_filename)\n",
    "pwin = PWin.from_file(in_filename)\n",
    "#print(pwin.to_str())\n",
    "\n",
    "bs = pwxml.get_band_structure()\n",
    "BSPlotter(bs).show()\n"
   ]
  },
  {
   "attachments": {},
   "cell_type": "markdown",
   "metadata": {},
   "source": [
    " # FeO\n",
    " collinear, spin-polarized scf, with DFT+U"
   ]
  },
  {
   "cell_type": "code",
   "execution_count": null,
   "metadata": {},
   "outputs": [],
   "source": [
    "dir = 'FeO'\n",
    "xml_filename = f'pymatgen/io/espresso/tests/data/{dir}/scf.xml'\n",
    "pwxml = PWxml(xml_filename)\n",
    "#print(pwin.to_str())\n"
   ]
  },
  {
   "attachments": {},
   "cell_type": "markdown",
   "metadata": {},
   "source": [
    " # MoS2\n",
    " collinear scf, with vdW"
   ]
  },
  {
   "cell_type": "code",
   "execution_count": null,
   "metadata": {},
   "outputs": [],
   "source": [
    "dir = 'MoS2'\n",
    "xml_filename = f'pymatgen/io/espresso/tests/data/{dir}/scf.xml'\n",
    "pwxml = PWxml(xml_filename)\n",
    "#print(pwin.to_str())\n"
   ]
  },
  {
   "attachments": {},
   "cell_type": "markdown",
   "metadata": {},
   "source": [
    " # Debugging"
   ]
  },
  {
   "cell_type": "code",
   "execution_count": null,
   "metadata": {},
   "outputs": [],
   "source": [
    "dir = 'Si'\n",
    "calc = 'bands'\n",
    "xml_filename = f'pymatgen/io/espresso/tests/data/{dir}/{calc}.xml'\n",
    "with open(xml_filename, encoding=\"UTF-8\") as xml:\n",
    "    data = xmltodict.parse(xml.read())['qes:espresso']\n",
    "#data['output']['band_structure']\n",
    "data['output']['atomic_structure']\n"
   ]
  },
  {
   "cell_type": "code",
   "execution_count": null,
   "metadata": {},
   "outputs": [],
   "source": [
    "vasprun_filename = f'pymatgen/io/espresso/tests/data/Si/vasprun_bands.xml'\n",
    "vasprun_frac = Vasprun(vasprun_filename)#, parse_projected_eigen=True)\n",
    "kpoints_filename = f'pymatgen/io/espresso/tests/data/Si/KPOINTS_bands'\n",
    "#KP = Kpoints.from_file(kpoints_filename)\n",
    "#bs = vasprun.get_band_structure(kpoints_filename=kpoints_filename)\n",
    "#from pymatgen.electronic_structure.plotter import BSPlotter\n",
    "#BSPlotter(bs).show()\n",
    "bs_frac = vasprun_frac.get_band_structure(kpoints_filename=kpoints_filename)\n",
    "alat = vasprun_frac.final_structure.lattice.a\n",
    "[k.cart_coords*alat/2/np.pi for k in bs.kpoints[::16]]\n",
    "#vasprun.actual_kpoints\n"
   ]
  },
  {
   "cell_type": "code",
   "execution_count": null,
   "metadata": {},
   "outputs": [],
   "source": [
    "#projwfc = Projwfc.from_filproj('pymatgen/io/espresso/tests/data/Sr3PbO/bands.proj')\n",
    "#projwfc = Projwfc.from_filproj('pymatgen/io/espresso/tests/data/Si/Si.projwfc_up')\n",
    "#projwfc = Projwfc.from_filproj('pymatgen/io/espresso/tests/data/Bi2Te3/Bi2Te3.projwfc_up')\n",
    "projwfc = Projwfc.from_filproj('pymatgen/io/espresso/tests/data/Ni/filproj.projwfc_down')\n",
    "#pwxml = PWxml('pymatgen/io/espresso/tests/data/Si/scf.xml')\n",
    "#pwxml.final_structure\n",
    "\n"
   ]
  },
  {
   "cell_type": "code",
   "execution_count": null,
   "metadata": {},
   "outputs": [],
   "source": [
    "projwfc\n"
   ]
  },
  {
   "cell_type": "code",
   "execution_count": null,
   "metadata": {},
   "outputs": [],
   "source": [
    "pwxml = PWxml('pymatgen/io/espresso/tests/data/Ni/bands.xml')\n"
   ]
  },
  {
   "cell_type": "code",
   "execution_count": null,
   "metadata": {},
   "outputs": [],
   "source": [
    "pwxml.eigenvalues[Spin.up].shape\n"
   ]
  },
  {
   "cell_type": "code",
   "execution_count": null,
   "metadata": {},
   "outputs": [],
   "source": [
    "data = Projwfc.from_projwfcout('pymatgen/io/espresso/tests/data/Ni/projwfc.out')\n",
    "data.atomic_states"
   ]
  },
  {
   "cell_type": "code",
   "execution_count": null,
   "metadata": {},
   "outputs": [],
   "source": [
    "projwfc = projwfc.from_filproj('pymatgen/io/espresso/tests/data/Sr3PbO/filproj.projwfc_up')\n",
    "#projwfc.atomic_states"
   ]
  },
  {
   "cell_type": "code",
   "execution_count": null,
   "metadata": {},
   "outputs": [],
   "source": [
    "#np.isclose(projections, projections_filproj, atol=1e-3).all()\n"
   ]
  },
  {
   "cell_type": "code",
   "execution_count": null,
   "metadata": {},
   "outputs": [],
   "source": [
    "nkstot = 10\n",
    "12 // nkstot\n"
   ]
  },
  {
   "cell_type": "code",
   "execution_count": null,
   "metadata": {},
   "outputs": [],
   "source": [
    "text = \"\"\"ArithmeticError\n",
    "AssertionError\n",
    "AttributeError\"\"\"\n",
    "\n",
    "import re\n",
    "found = re.findall(r'(\\w+Error)', text)\n",
    "if found:\n",
    "    print(\"found\")\n",
    "\n",
    "\n"
   ]
  },
  {
   "cell_type": "code",
   "execution_count": null,
   "metadata": {},
   "outputs": [],
   "source": [
    "from pymatgen.electronic_structure.core import Magmom, Orbital, OrbitalType, Spin\n"
   ]
  },
  {
   "cell_type": "code",
   "execution_count": null,
   "metadata": {},
   "outputs": [],
   "source": [
    "Spin.up\n"
   ]
  },
  {
   "cell_type": "code",
   "execution_count": null,
   "metadata": {},
   "outputs": [],
   "source": [
    "\n",
    "\n",
    "\n"
   ]
  }
 ],
 "metadata": {
  "kernelspec": {
   "display_name": "pmg-espresso-dev",
   "language": "python",
   "name": "python3"
  },
  "language_info": {
   "codemirror_mode": {
    "name": "ipython",
    "version": 3
   },
   "file_extension": ".py",
   "mimetype": "text/x-python",
   "name": "python",
   "nbconvert_exporter": "python",
   "pygments_lexer": "ipython3",
   "version": "3.12.2"
  },
  "orig_nbformat": 4
 },
 "nbformat": 4,
 "nbformat_minor": 2
}
