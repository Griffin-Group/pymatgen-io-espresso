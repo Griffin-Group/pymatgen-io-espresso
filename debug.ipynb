{
 "cells": [
  {
   "cell_type": "code",
   "execution_count": 9,
   "metadata": {},
   "outputs": [],
   "source": [
    "from pymatgen.io.espresso.PWscf import PWxml, PWin\n",
    "from pymatgen.io.vasp.outputs import Vasprun\n",
    "from pymatgen.electronic_structure.core import Spin\n",
    "import xml.etree.ElementTree as ET\n",
    "from monty.io import zopen\n",
    "import xmltodict\n",
    "import numpy as np"
   ]
  },
  {
   "cell_type": "code",
   "execution_count": 10,
   "metadata": {},
   "outputs": [],
   "source": [
    "#filename = 'pymatgen/io/espresso/tests/data/Sr3PbO_vcrelax.xml'\n",
    "#filename = 'pymatgen/io/espresso/tests/data/Sr3PbO_scf.xml'\n",
    "filename = 'pymatgen/io/espresso/tests/data/Sr3PbO_bands.xml'\n",
    "#filename = 'pymatgen/io/espresso/tests/data/FeO_DFTU.xml'\n",
    "#filename = 'pymatgen/io/espresso/tests/data/MoS2_vdw.xml'\n",
    "#filename = 'pymatgen/io/espresso/tests/data/Ni_spin_pol.xml'\n",
    "pwout = PWxml(filename)"
   ]
  },
  {
   "cell_type": "code",
   "execution_count": 11,
   "metadata": {},
   "outputs": [],
   "source": [
    "vasprun = Vasprun('pymatgen/io/espresso/tests/data/Sr3PbO_vasprun.xml')"
   ]
  },
  {
   "cell_type": "code",
   "execution_count": 12,
   "metadata": {},
   "outputs": [],
   "source": [
    "with open(filename, encoding=\"UTF-8\") as xml:\n",
    "    data = xmltodict.parse(xml.read())['qes:espresso']"
   ]
  },
  {
   "cell_type": "code",
   "execution_count": 13,
   "metadata": {},
   "outputs": [
    {
     "data": {
      "text/plain": [
       "'3.537375162118481e-1'"
      ]
     },
     "execution_count": 13,
     "metadata": {},
     "output_type": "execute_result"
    }
   ],
   "source": [
    "data['output']['band_structure'].get('lowestUnoccupiedLevel', None)"
   ]
  },
  {
   "cell_type": "code",
   "execution_count": 14,
   "metadata": {},
   "outputs": [],
   "source": [
    "input_filename = 'pymatgen/io/espresso/tests/data/Ni_spin_pol.pwi'\n",
    "pwin = PWin(input_filename)"
   ]
  },
  {
   "cell_type": "code",
   "execution_count": 15,
   "metadata": {},
   "outputs": [
    {
     "data": {
      "text/plain": [
       "<pymatgen.io.espresso.PWscf.PWin.card at 0x155abce50>"
      ]
     },
     "execution_count": 15,
     "metadata": {},
     "output_type": "execute_result"
    }
   ],
   "source": [
    "pwin.atomic_species"
   ]
  },
  {
   "cell_type": "code",
   "execution_count": 16,
   "metadata": {},
   "outputs": [
    {
     "data": {
      "text/plain": [
       "OrderedDict([('diagonalization', 'david'),\n",
       "             ('conv_thr', 1e-08),\n",
       "             ('mixing_beta', 0.7)])"
      ]
     },
     "execution_count": 16,
     "metadata": {},
     "output_type": "execute_result"
    }
   ],
   "source": [
    "pwin.electrons"
   ]
  },
  {
   "cell_type": "code",
   "execution_count": 17,
   "metadata": {},
   "outputs": [
    {
     "name": "stdout",
     "output_type": "stream",
     "text": [
      "Somrthing is wrong\n"
     ]
    }
   ],
   "source": [
    "x = [None, None, {'hi': 2}]\n",
    "if not all(x):\n",
    "    print('Somrthing is wrong')"
   ]
  },
  {
   "cell_type": "code",
   "execution_count": 18,
   "metadata": {},
   "outputs": [
    {
     "data": {
      "text/plain": [
       "True"
      ]
     },
     "execution_count": 18,
     "metadata": {},
     "output_type": "execute_result"
    }
   ],
   "source": [
    "bool(x[2])"
   ]
  },
  {
   "cell_type": "code",
   "execution_count": 19,
   "metadata": {},
   "outputs": [
    {
     "data": {
      "text/plain": [
       "[{'symbol': 'Ni', 'position': [0.0, 0.0, 0.0]}]"
      ]
     },
     "execution_count": 19,
     "metadata": {},
     "output_type": "execute_result"
    }
   ],
   "source": [
    "pwin.atomic_positions.items"
   ]
  },
  {
   "cell_type": "code",
   "execution_count": 20,
   "metadata": {},
   "outputs": [
    {
     "data": {
      "text/plain": [
       "[{'k': [0.0, 0.0, 0.0], 'weight': 20, 'label': 'gamma'},\n",
       " {'k': [0.5, 0.5, 0.5], 'weight': 10, 'label': 'L'},\n",
       " {'k': [0.5, 0.25, 0.75], 'weight': 10, 'label': 'W'},\n",
       " {'k': [0.5, 0.0, 0.5], 'weight': 10, 'label': 'X'},\n",
       " {'k': [0.0, 0.0, 0.0], 'weight': 20, 'label': 'gamma'},\n",
       " {'k': [0.375, 0.375, 0.75], 'weight': 1, 'label': 'K'}]"
      ]
     },
     "execution_count": 20,
     "metadata": {},
     "output_type": "execute_result"
    }
   ],
   "source": [
    "pwin.k_points.items"
   ]
  },
  {
   "cell_type": "code",
   "execution_count": null,
   "metadata": {},
   "outputs": [],
   "source": []
  }
 ],
 "metadata": {
  "kernelspec": {
   "display_name": "pmg-espresso-dev",
   "language": "python",
   "name": "python3"
  },
  "language_info": {
   "codemirror_mode": {
    "name": "ipython",
    "version": 3
   },
   "file_extension": ".py",
   "mimetype": "text/x-python",
   "name": "python",
   "nbconvert_exporter": "python",
   "pygments_lexer": "ipython3",
   "version": "3.11.2"
  },
  "orig_nbformat": 4
 },
 "nbformat": 4,
 "nbformat_minor": 2
}
